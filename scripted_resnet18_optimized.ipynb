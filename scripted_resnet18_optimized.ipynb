{
  "nbformat": 4,
  "nbformat_minor": 0,
  "metadata": {
    "colab": {
      "name": "scripted_resnet18_optimized.ipynb",
      "provenance": [],
      "collapsed_sections": []
    },
    "kernelspec": {
      "name": "python3",
      "display_name": "Python 3"
    },
    "language_info": {
      "name": "python"
    }
  },
  "cells": [
    {
      "cell_type": "code",
      "execution_count": 3,
      "metadata": {
        "colab": {
          "base_uri": "https://localhost:8080/"
        },
        "id": "1u2Oa3v0s6d1",
        "outputId": "9e1de5c8-4e1e-4276-dabb-660ffa50dfc6"
      },
      "outputs": [
        {
          "output_type": "stream",
          "name": "stderr",
          "text": [
            "/usr/local/lib/python3.7/dist-packages/torch/ao/quantization/observer.py:174: UserWarning: Please use quant_min and quant_max to specify the range for observers.                     reduce_range will be deprecated in a future release of PyTorch.\n",
            "  reduce_range will be deprecated in a future release of PyTorch.\"\n"
          ]
        },
        {
          "output_type": "stream",
          "name": "stdout",
          "text": [
            "def forward(self,\n",
            "    x: Tensor) -> Tensor:\n",
            "  quant = self.quant\n",
            "  x0 = (quant).forward(x, )\n",
            "  x1 = (self)._forward_impl(x0, )\n",
            "  dequant = self.dequant\n",
            "  return (dequant).forward(x1, )\n",
            "\n"
          ]
        }
      ],
      "source": [
        "import torchvision\n",
        "import torch \n",
        "from torch.utils.mobile_optimizer import optimize_for_mobile\n",
        "\n",
        "model = torchvision.models.quantization.resnet18(pretrained = True, quantize = True) # Import pre-trained, quantized model\n",
        "resnet18_scripted = torch.jit.script(model) # Export model to TorchScript and ready for optimization\n",
        "\n",
        "optimized_scripted_module = optimize_for_mobile(resnet18_scripted) #Optimize model for Mobile\n",
        "optimized_scripted_module._save_for_lite_interpreter(\"scripted_resnet18_optimized.py\") # Svae in Files and ready for download to use in Androis Studio\n",
        "print(resnet18_scripted.code)\n",
        "#model.eval()"
      ]
    },
    {
      "cell_type": "code",
      "source": [
        ""
      ],
      "metadata": {
        "id": "wmIW3GRoiOuW"
      },
      "execution_count": null,
      "outputs": []
    }
  ]
}